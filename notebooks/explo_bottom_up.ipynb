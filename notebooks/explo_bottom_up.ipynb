{
 "cells": [
  {
   "cell_type": "code",
   "execution_count": null,
   "metadata": {},
   "outputs": [],
   "source": [
    "import sys\n",
    "import json\n",
    "sys.path.append(\"../\")\n",
    "from src.data_utils import load_captions, make_train_test_images\n",
    "import tensorflow as tf\n",
    "import matplotlib.pyplot as plt\n",
    "import numpy as np\n",
    "import tensorflow_hub as hub\n"
   ]
  },
  {
   "cell_type": "code",
   "execution_count": null,
   "metadata": {},
   "outputs": [],
   "source": [
    "# Loading data\n",
    "CAPTIONS_PATH = \"../data/Flickr_Data/Flickr_TextData/Flickr8k.token.txt\"\n",
    "IMAGES_PATH = \"../data/Flickr_Data/Images/\"\n",
    "captions = load_captions(CAPTIONS_PATH)\n",
    "train, test, train_images, test_images = make_train_test_images(CAPTIONS_PATH, IMAGES_PATH)"
   ]
  },
  {
   "cell_type": "code",
   "execution_count": null,
   "metadata": {},
   "outputs": [],
   "source": [
    "module_handle = \"https://tfhub.dev/google/openimages_v4/ssd/mobilenet_v2/1\"\n",
    "\n",
    "detector = hub.load(module_handle).signatures['default']"
   ]
  },
  {
   "cell_type": "code",
   "execution_count": null,
   "metadata": {},
   "outputs": [],
   "source": [
    "def load_img(path):\n",
    "  img = tf.io.read_file(path)\n",
    "  img = tf.image.decode_jpeg(img, channels=3)\n",
    "  return img"
   ]
  },
  {
   "cell_type": "code",
   "execution_count": null,
   "metadata": {},
   "outputs": [],
   "source": [
    "img = load_img(train_images[0])\n",
    "converted_img  = tf.image.convert_image_dtype(img, tf.float32)[tf.newaxis, ...]"
   ]
  },
  {
   "cell_type": "code",
   "execution_count": null,
   "metadata": {},
   "outputs": [],
   "source": [
    "out = detector(converted_img)"
   ]
  },
  {
   "cell_type": "code",
   "execution_count": null,
   "metadata": {},
   "outputs": [],
   "source": [
    "plt.imshow(img)"
   ]
  },
  {
   "cell_type": "code",
   "execution_count": null,
   "metadata": {},
   "outputs": [],
   "source": [
    "out['detection_boxes']"
   ]
  },
  {
   "cell_type": "code",
   "execution_count": null,
   "metadata": {},
   "outputs": [],
   "source": [
    "def extract_regions(img, bounding_boxes):\n",
    "    width, height, _ = img.shape\n",
    "    features = []\n",
    "    for n, (y1, x1, y2, x2) in enumerate(bounding_boxes):\n",
    "        x1 = int(width * x1)\n",
    "        x2 = int(width * x2)\n",
    "        y1 = int(height * y1)\n",
    "        y2 = int(height * y2)\n",
    "        if (x1 != x2) and (y1 != y2):\n",
    "            features.append(img[x1:x2+1, y1:y2+1, :])\n",
    "    return features        "
   ]
  },
  {
   "cell_type": "code",
   "execution_count": null,
   "metadata": {},
   "outputs": [],
   "source": [
    "features = extract_regions(converted_img[0], out['detection_boxes'])"
   ]
  },
  {
   "cell_type": "code",
   "execution_count": null,
   "metadata": {},
   "outputs": [],
   "source": [
    "len(features)"
   ]
  },
  {
   "cell_type": "code",
   "execution_count": null,
   "metadata": {},
   "outputs": [],
   "source": [
    "plt.imshow(features[9])"
   ]
  }
 ],
 "metadata": {
  "interpreter": {
   "hash": "f1b19780d23b92597814394d092496a39baebb3af42df8c1e9d52806568d7e27"
  },
  "kernelspec": {
   "display_name": "Python 3.8.6 64-bit ('dl-ic-cpu': conda)",
   "language": "python",
   "name": "python3"
  },
  "language_info": {
   "codemirror_mode": {
    "name": "ipython",
    "version": 3
   },
   "file_extension": ".py",
   "mimetype": "text/x-python",
   "name": "python",
   "nbconvert_exporter": "python",
   "pygments_lexer": "ipython3",
   "version": "3.8.6"
  },
  "orig_nbformat": 4
 },
 "nbformat": 4,
 "nbformat_minor": 2
}
