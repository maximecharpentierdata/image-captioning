{
 "cells": [
  {
   "cell_type": "code",
   "execution_count": null,
   "metadata": {},
   "outputs": [],
   "source": [
    "import sys\n",
    "sys.path.append(\"../\")\n",
    "\n",
    "import json\n",
    "import os\n",
    "from pycocotools.coco import COCO\n",
    "from src.config import DATA_ROOT_PATH\n",
    "from tqdm import tqdm\n",
    "import matplotlib.pyplot as plt\n",
    "from matplotlib.image import imread\n",
    "from textwrap import wrap"
   ]
  },
  {
   "cell_type": "code",
   "execution_count": null,
   "metadata": {},
   "outputs": [],
   "source": [
    "test_set = COCO(os.path.join(DATA_ROOT_PATH, \"COCO\", \"val\", \"captions.json\"))\n",
    "captions = json.load(open(os.path.join(DATA_ROOT_PATH, \"COCO\", \"predictions\", \"B600_99\", \"coco_res.json\")))"
   ]
  },
  {
   "cell_type": "code",
   "execution_count": null,
   "metadata": {},
   "outputs": [],
   "source": [
    "best = [-395, 7, 36]\n",
    "worst = [-375]"
   ]
  },
  {
   "cell_type": "code",
   "execution_count": null,
   "metadata": {},
   "outputs": [],
   "source": [
    "fig, ax = plt.subplots(10, 4, figsize=(20, 60))\n",
    "offset = -0\n",
    "fig.patch.set_facecolor('white')\n",
    "\n",
    "progress = tqdm(total=ax.shape[0]*ax.shape[1])\n",
    "for i in range(ax.shape[0]):\n",
    "    for j in range(ax.shape[1]):\n",
    "        cap = captions[offset + i*ax.shape[1] + j]\n",
    "        print(i*ax.shape[1] + j, offset + i*ax.shape[1] + j)\n",
    "        img = imread(os.path.join(DATA_ROOT_PATH, \"COCO\", \"val\", \"images\", test_set.imgs[cap[\"image_id\"]][\"file_name\"]))\n",
    "        ax[i, j].imshow(img)\n",
    "        ax[i, j].set_title(\n",
    "            \"\\n\".join(wrap(cap[\"caption\"], 40))\n",
    "        )\n",
    "        ax[i, j].axis(\"off\")\n",
    "        progress.update()\n",
    "progress.close()"
   ]
  }
 ],
 "metadata": {
  "interpreter": {
   "hash": "f1b19780d23b92597814394d092496a39baebb3af42df8c1e9d52806568d7e27"
  },
  "kernelspec": {
   "display_name": "Python 3.8.6 64-bit ('dl-ic-cpu': conda)",
   "language": "python",
   "name": "python3"
  },
  "language_info": {
   "codemirror_mode": {
    "name": "ipython",
    "version": 3
   },
   "file_extension": ".py",
   "mimetype": "text/x-python",
   "name": "python",
   "nbconvert_exporter": "python",
   "pygments_lexer": "ipython3",
   "version": "3.9.7"
  },
  "orig_nbformat": 4
 },
 "nbformat": 4,
 "nbformat_minor": 2
}
