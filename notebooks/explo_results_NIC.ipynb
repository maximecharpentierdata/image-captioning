{
 "cells": [
  {
   "cell_type": "code",
   "execution_count": null,
   "metadata": {},
   "outputs": [],
   "source": [
    "import json\n",
    "import matplotlib.pyplot as plt\n",
    "from matplotlib.image import imread\n",
    "import tqdm"
   ]
  },
  {
   "cell_type": "code",
   "execution_count": null,
   "metadata": {},
   "outputs": [],
   "source": [
    "# Loading data\n",
    "with open(\"../data/Flickr_Data/predictions/NIC.json\") as pred_file:\n",
    "    predictions = json.load(pred_file)\n",
    "IMAGES_PATH = \"../data/Flickr_Data/Images/\""
   ]
  },
  {
   "cell_type": "code",
   "execution_count": null,
   "metadata": {},
   "outputs": [],
   "source": [
    "fig, ax = plt.subplots(4, 4, figsize=(20, 20))\n",
    "offset = 0\n",
    "\n",
    "fig.patch.set_facecolor('white')\n",
    "\n",
    "progress = tqdm.tqdm(total=ax.shape[0]*ax.shape[1])\n",
    "for i in range(ax.shape[0]):\n",
    "    for j in range(ax.shape[1]):\n",
    "        test_id = list(predictions.keys())[offset + i*ax.shape[1] + j]\n",
    "        img = imread(IMAGES_PATH + test_id + \".jpg\")\n",
    "        ax[i, j].imshow(img)\n",
    "        print(test_id)\n",
    "        ax[i, j].set_title(\n",
    "            predictions[test_id]\n",
    "        )\n",
    "        ax[i, j].axis(\"off\")\n",
    "        progress.update()\n",
    "progress.close()"
   ]
  },
  {
   "cell_type": "code",
   "execution_count": null,
   "metadata": {},
   "outputs": [],
   "source": [
    "my_favs = [\"3718076407_0b4588d7bc\", \"3721082512_8277087f3f\", \"3728164558_52729baefa\"]\n",
    "the_worst = [\"3718892835_a3e74a3417\", \"386470686_1ae9242878\", \"3729525173_7f984ed776\"]"
   ]
  },
  {
   "cell_type": "code",
   "execution_count": null,
   "metadata": {},
   "outputs": [],
   "source": [
    "fig = plt.figure(figsize=(5, 5))\n",
    "\n",
    "my_key = \"3722572342_6904d11d52\"\n",
    "\n",
    "fig.patch.set_facecolor('white')\n",
    "\n",
    "img = imread(IMAGES_PATH + my_key + \".jpg\")\n",
    "plt.imshow(img)\n",
    "plt.title(\n",
    "    predictions[my_key]\n",
    ")\n",
    "plt.axis(\"off\")\n",
    "plt.savefig(\"fig.png\")"
   ]
  }
 ],
 "metadata": {
  "interpreter": {
   "hash": "f1b19780d23b92597814394d092496a39baebb3af42df8c1e9d52806568d7e27"
  },
  "kernelspec": {
   "display_name": "Python 3.8.6 64-bit ('dl-ic-cpu': conda)",
   "language": "python",
   "name": "python3"
  },
  "language_info": {
   "codemirror_mode": {
    "name": "ipython",
    "version": 3
   },
   "file_extension": ".py",
   "mimetype": "text/x-python",
   "name": "python",
   "nbconvert_exporter": "python",
   "pygments_lexer": "ipython3",
   "version": "3.9.7"
  },
  "orig_nbformat": 4
 },
 "nbformat": 4,
 "nbformat_minor": 2
}
